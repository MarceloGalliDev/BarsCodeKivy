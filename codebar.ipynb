{
 "cells": [
  {
   "cell_type": "code",
   "execution_count": 9,
   "metadata": {},
   "outputs": [],
   "source": [
    "import barcode\n",
    "from barcode.writer import ImageWriter, SVGWriter\n",
    "import treepoem\n",
    "\n",
    "from io import BytesIO\n",
    "from barcode import Code39\n"
   ]
  },
  {
   "cell_type": "code",
   "execution_count": 4,
   "metadata": {},
   "outputs": [
    {
     "name": "stdout",
     "output_type": "stream",
     "text": [
      "Código de barras gerado e salvo como barcode/barcode.png.png\n"
     ]
    }
   ],
   "source": [
    "# Escolha o tipo de código de barras que deseja gerar\n",
    "barcode_type = 'ean13'  # EAN-13 é um dos tipos de códigos de barras suportados\n",
    "\n",
    "# Número do código de barras (deve ser um número válido para o tipo escolhido)\n",
    "barcode_number = '100000000001'  # Deve ter 12 dígitos para EAN-13\n",
    "\n",
    "# Gerar o código de barras\n",
    "barcode_class = barcode.get_barcode_class(barcode_type)\n",
    "barcode_instance = barcode_class(barcode_number, writer=ImageWriter())\n",
    "\n",
    "# Salvar o código de barras em um arquivo\n",
    "filename = barcode_instance.save('barcode/barcode')\n",
    "\n",
    "print(f'Código de barras gerado e salvo como {filename}.png')"
   ]
  },
  {
   "cell_type": "code",
   "execution_count": 12,
   "metadata": {},
   "outputs": [],
   "source": [
    "# Write to a file-like object:\n",
    "rv = BytesIO()\n",
    "Code39(\"08191442906\", writer=SVGWriter()).write(rv)\n",
    "\n",
    "# Or to an actual file:\n",
    "with open(\"barcode/somefile.svg\", \"wb\") as f:\n",
    "    Code39(str('08191442906'), writer=SVGWriter()).write(f)"
   ]
  }
 ],
 "metadata": {
  "kernelspec": {
   "display_name": ".venv",
   "language": "python",
   "name": "python3"
  },
  "language_info": {
   "codemirror_mode": {
    "name": "ipython",
    "version": 3
   },
   "file_extension": ".py",
   "mimetype": "text/x-python",
   "name": "python",
   "nbconvert_exporter": "python",
   "pygments_lexer": "ipython3",
   "version": "3.12.3"
  }
 },
 "nbformat": 4,
 "nbformat_minor": 2
}
