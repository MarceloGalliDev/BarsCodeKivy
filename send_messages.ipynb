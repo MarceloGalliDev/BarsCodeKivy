{
 "cells": [
  {
   "cell_type": "code",
   "execution_count": 26,
   "metadata": {},
   "outputs": [],
   "source": [
    "import time\n",
    "import openpyxl\n",
    "import urllib.parse\n",
    "import pandas as pd\n",
    "from datetime import datetime\n",
    "from selenium import webdriver\n",
    "from selenium.webdriver.chrome.service import Service\n",
    "from selenium.webdriver.chrome.options import Options\n",
    "from webdriver_manager.chrome import ChromeDriverManager\n",
    "from selenium.webdriver.common.keys import Keys\n",
    "from selenium.webdriver.common.by import By\n",
    "import pyautogui\n",
    "import pyperclip"
   ]
  },
  {
   "cell_type": "code",
   "execution_count": 4,
   "metadata": {},
   "outputs": [],
   "source": [
    "options = Options()\n",
    "options.add_argument(\"start-maximized\")\n",
    "# options.add_argument(\"--incognito\")\n",
    "# options.add_argument(\"--ignore-certificate-errors\")\n",
    "# options.add_argument(\"--allow-running-insecure-content\")\n",
    "service = Service(ChromeDriverManager().install())\n",
    "driver = webdriver.Chrome(service=service, options=options)\n",
    "driver.get(\"https://web.whatsapp.com\")\n",
    "\n",
    "while len(driver.find_elements(by=By.ID, value='side')) < 1:\n",
    "    time.sleep(1)\n",
    "time.sleep(2)"
   ]
  },
  {
   "cell_type": "code",
   "execution_count": null,
   "metadata": {},
   "outputs": [],
   "source": [
    "path_lista = \"tabela/lista-envio.xlsx\"\n",
    "        \n",
    "df = pd.read_excel(path_lista)\n",
    "wb = openpyxl.load_workbook(path_lista)\n",
    "ws = wb.active\n",
    "\n",
    "display(df)"
   ]
  },
  {
   "cell_type": "code",
   "execution_count": null,
   "metadata": {},
   "outputs": [],
   "source": [
    "try:\n",
    "    indice = df[df['sequencia'] != '-'].iloc[-1]['sequencia']\n",
    "    seq = indice\n",
    "except:  # noqa: E722\n",
    "    indice = 0\n",
    "    seq = 0\n",
    "\n",
    "for i in range(indice, len(df)):\n",
    "    index = df.loc[i, \"index\"]\n",
    "    nome = df.loc[i, \"nome\"]\n",
    "    celular = df.loc[i, \"celular\"]\n",
    "    path_link = df.loc[i, \"link\"]\n",
    "\n",
    "    presenca = df.loc[i, \"presenca\"]\n",
    "    dataAtualCobranca = datetime.now().strftime(\"%d/%m/%Y %H:%M\")\n",
    "    status_200 = \"Ok!\"\n",
    "    status_400 = \"Inválido!\"\n",
    "    status_404 = \"Erro!\"\n",
    "\n",
    "\n",
    "    send_text = f'''\n",
    "Olá *{nome}* 🤩\n",
    "Pra não esquecer em!!!  🎉\n",
    "_Dia 29 de Junho, a partir das 19H na Dusnei_\n",
    "\n",
    "Localização:\n",
    "R. Pioneiro João Rufato, 257 - Parque Industrial 200, Maringá\n",
    "Lembrando que será necessário para registrar presença!\n",
    "'''\n",
    "\n",
    "    time.sleep(2)\n",
    "    \n",
    "    texto_codificado = urllib.parse.quote(send_text)\n",
    "    \n",
    "    link = f\"https://web.whatsapp.com/send?phone={celular}&text={texto_codificado}\"\n",
    "    driver.get(link)\n",
    "\n",
    "    time.sleep(5)\n",
    "    \n",
    "    try:\n",
    "        while len(driver.find_elements(by=By.ID, value='side')) < 1:\n",
    "            time.sleep(3)\n",
    "        time.sleep(3)\n",
    "    except:  # noqa: E722\n",
    "        time.sleep(5)\n",
    "        while len(driver.find_elements(by=By.ID, value='side')) < 1:\n",
    "            time.sleep(5)\n",
    "        time.sleep(5)\n",
    "\n",
    "    if len(driver.find_elements(by=By.XPATH, value='//*[@id=\"app\"]/div/span[2]/div/span/div/div/div/div/div/div[1]')) < 1:\n",
    "        time.sleep(3)\n",
    "        try:\n",
    "            # click para abrir menu\n",
    "            driver.find_elements(by=By.XPATH, value='//*[@id=\"main\"]/footer/div[1]/div/span[2]/div/div[1]/div[2]/div/div/div/span')[0].click()\n",
    "            time.sleep(3)\n",
    "            # click para opcao de foto\n",
    "            click_2 = driver.find_elements(by=By.XPATH, value='//*[@id=\"main\"]/footer/div[1]/div/span[2]/div/div[1]/div[2]/div/span/div/ul/div/div[2]/li/div/span')[0].click()\n",
    "            time.sleep(3)\n",
    "            # colando path imagem\n",
    "            pyperclip.copy(path_link)\n",
    "            time.sleep(2)\n",
    "            pyautogui.hotkey('ctrl', 'v')\n",
    "            time.sleep(2)\n",
    "            pyautogui.press('enter')\n",
    "            time.sleep(2)\n",
    "            # enviando a msg\n",
    "            driver.find_element(\n",
    "                by=By.XPATH, value='//*[@id=\"app\"]/div/div[2]/div[2]/div[2]/span/div/div/div/div[2]/div/div[2]/div[2]/div/div').send_keys(Keys.ENTER)\n",
    "        except:  # noqa: E722\n",
    "            time.sleep(4)\n",
    "            # click para abrir menu\n",
    "            driver.find_elements(by=By.XPATH, value='//*[@id=\"main\"]/footer/div[1]/div/span[2]/div/div[1]/div[2]/div/div/div/span')[0].click()\n",
    "            time.sleep(3)\n",
    "            # click para opcao de foto\n",
    "            click_2 = driver.find_elements(by=By.XPATH, value='//*[@id=\"main\"]/footer/div[1]/div/span[2]/div/div[1]/div[2]/div/span/div/ul/div/div[2]/li/div/span')[0].click()\n",
    "            time.sleep(3)\n",
    "            # colando path imagem\n",
    "            pyperclip.copy(link)\n",
    "            time.sleep(2)\n",
    "            pyautogui.hotkey('ctrl', 'v')\n",
    "            time.sleep(2)\n",
    "            pyautogui.press('enter')\n",
    "            time.sleep(2)\n",
    "            # enviando a msg\n",
    "            driver.find_element(\n",
    "                by=By.XPATH, value='//*[@id=\"app\"]/div/div[2]/div[2]/div[2]/span/div/div/div/div[2]/div/div[2]/div[2]/div/div').send_keys(Keys.ENTER)\n",
    "        time.sleep(4)\n",
    "        seq = seq + 1\n",
    "        for celula in ws[\"A\"]:\n",
    "            if celula.value == index:\n",
    "                linha = celula.row\n",
    "                ws[f\"I{linha}\"] = (f'{status_200}')\n",
    "                ws[f\"J{linha}\"] = (f'{dataAtualCobranca}')\n",
    "                ws[f\"H{linha}\"] = int(seq)\n",
    "\n",
    "        wb.save(path_lista)\n",
    "\n",
    "        print(f'enviado: {nome}')\n",
    "        time.sleep(4)\n",
    "    else:\n",
    "        time.sleep(6)\n",
    "        element = driver.find_element(By.TAG_NAME, 'div')\n",
    "        element.find_elements(By.TAG_NAME, 'button')[0].click()\n",
    "        time.sleep(4)\n",
    "\n",
    "        seq = seq + 1\n",
    "        for celula in ws[\"A\"]:\n",
    "            if celula.value == index:\n",
    "                linha = celula.row\n",
    "                ws[f\"I{linha}\"] = (f'{status_404}')\n",
    "                ws[f\"J{linha}\"] = (f'{dataAtualCobranca}')\n",
    "                ws[f\"H{linha}\"] = int(seq)\n",
    "\n",
    "        wb.save(path_lista)\n",
    "\n",
    "        print('erro')\n",
    "        time.sleep(4)\n",
    "        pass"
   ]
  },
  {
   "cell_type": "code",
   "execution_count": 22,
   "metadata": {},
   "outputs": [],
   "source": [
    "# 1 click\n",
    "driver.find_elements(by=By.XPATH, value='//*[@id=\"main\"]/footer/div[1]/div/span[2]/div/div[1]/div[2]/div/div/div/span')[0].click()"
   ]
  },
  {
   "cell_type": "code",
   "execution_count": 23,
   "metadata": {},
   "outputs": [],
   "source": [
    "# 2 click\n",
    "click_2 = driver.find_elements(by=By.XPATH, value='//*[@id=\"main\"]/footer/div[1]/div/span[2]/div/div[1]/div[2]/div/span/div/ul/div/div[2]/li/div/span')[0].click()"
   ]
  },
  {
   "cell_type": "code",
   "execution_count": 43,
   "metadata": {},
   "outputs": [],
   "source": [
    "driver.find_element(\n",
    "                by=By.XPATH, value='//*[@id=\"app\"]/div/div[2]/div[2]/div[2]/span/div/div/div/div[2]/div/div[2]/div[2]/div/div').send_keys(Keys.ENTER)"
   ]
  },
  {
   "cell_type": "code",
   "execution_count": 29,
   "metadata": {},
   "outputs": [],
   "source": [
    "link = r'C:\\Users\\Roots Tech\\Documents\\GitHub\\BarsCodeKivy\\qrcodes\\final\\convite-10000.png'\n",
    "\n",
    "pyperclip.copy(link)\n",
    "time.sleep(2)\n",
    "pyautogui.hotkey('ctrl', 'v')\n",
    "time.sleep(2)\n",
    "pyautogui.press('enter')\n",
    "time.sleep(2)"
   ]
  },
  {
   "cell_type": "code",
   "execution_count": 48,
   "metadata": {},
   "outputs": [
    {
     "name": "stdout",
     "output_type": "stream",
     "text": [
      "Posição atual do mouse: (1853, 551)\n",
      "Posição atual do mouse: (717, 353)\n",
      "Programa encerrado.\n"
     ]
    }
   ],
   "source": [
    "try:\n",
    "    while True:\n",
    "        x, y = pyautogui.position()\n",
    "        print(f\"Posição atual do mouse: ({x}, {y})\")\n",
    "        time.sleep(5)  # Atualiza a cada segundo\n",
    "except KeyboardInterrupt:\n",
    "    print(\"Programa encerrado.\")"
   ]
  },
  {
   "cell_type": "code",
   "execution_count": 2,
   "metadata": {},
   "outputs": [],
   "source": [
    "import os\n",
    "from google.oauth2 import service_account\n",
    "from googleapiclient.discovery import build\n",
    "from googleapiclient.http import MediaFileUpload"
   ]
  },
  {
   "cell_type": "code",
   "execution_count": 5,
   "metadata": {},
   "outputs": [
    {
     "name": "stdout",
     "output_type": "stream",
     "text": [
      "File ID: 1TIs7YQfswDh9HIr4MYnZE09-Kvu-G4j9 uploaded successfully to Google Drive.\n"
     ]
    }
   ],
   "source": [
    "def authenticate_google_drive():\n",
    "    SCOPES = ['https://www.googleapis.com/auth/drive.file']\n",
    "    credentials = service_account.Credentials.from_service_account_file(\n",
    "        'credentials.json', scopes=SCOPES)\n",
    "    return build('drive', 'v3', credentials=credentials)\n",
    "\n",
    "# Função para enviar o arquivo para o Google Drive\n",
    "def upload_to_google_drive(service, file_path, file_name, folder_id):\n",
    "    file_metadata = {\n",
    "        'name': file_name,\n",
    "        'parents': [folder_id]\n",
    "    }\n",
    "    media = MediaFileUpload(file_path, mimetype='application/vnd.openxmlformats-officedocument.spreadsheetml.sheet')\n",
    "    file = service.files().create(body=file_metadata, media_body=media, fields='id').execute()\n",
    "    print(f'File ID: {file.get(\"id\")} uploaded successfully to Google Drive.')\n",
    "\n",
    "# Autenticar no Google Drive\n",
    "drive_service = authenticate_google_drive()\n",
    "\n",
    "# Caminho do arquivo a ser enviado\n",
    "file_path = 'tabela/lista-envio.xlsx'\n",
    "file_name = 'lista-envio.xlsx'\n",
    "\n",
    "# ID da pasta no Google Drive onde o arquivo será armazenado\n",
    "google_drive_folder_id = '13FG1hOOEo06iCEeyBYst1lHFS2cwtNmR'\n",
    "\n",
    "# Enviar o arquivo para o Google Drive\n",
    "upload_to_google_drive(drive_service, file_path, file_name, google_drive_folder_id)"
   ]
  }
 ],
 "metadata": {
  "kernelspec": {
   "display_name": ".venv",
   "language": "python",
   "name": "python3"
  },
  "language_info": {
   "codemirror_mode": {
    "name": "ipython",
    "version": 3
   },
   "file_extension": ".py",
   "mimetype": "text/x-python",
   "name": "python",
   "nbconvert_exporter": "python",
   "pygments_lexer": "ipython3",
   "version": "3.10.12"
  }
 },
 "nbformat": 4,
 "nbformat_minor": 2
}
